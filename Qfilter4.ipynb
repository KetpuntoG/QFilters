{
 "cells": [
  {
   "cell_type": "code",
   "execution_count": 182,
   "metadata": {},
   "outputs": [],
   "source": [
    "import pennylane as qml\n",
    "from pennylane import numpy as np\n",
    "from pennylane.templates import RandomLayers\n",
    "import tensorflow as tf\n",
    "from tensorflow import keras\n",
    "import matplotlib.pyplot as plt"
   ]
  },
  {
   "cell_type": "code",
   "execution_count": 248,
   "metadata": {},
   "outputs": [],
   "source": [
    "n_epochs = 2   # Number of optimization epochs\n",
    "n_layers = 1    # Number of random layers\n",
    "n_train = 50     # Size of the train dataset\n",
    "n_test = 1      # Size of the test dataset\n",
    "\n",
    "SAVE_PATH = \"./quanvolution/\" # Data saving folder\n",
    "PREPROCESS = True           # If False, skip quantum processing and load data from SAVE_PATH\n",
    "np.random.seed(0)           # Seed for NumPy random number generator\n",
    "tf.random.set_seed(0)       # Seed for TensorFlow random number generator"
   ]
  },
  {
   "cell_type": "code",
   "execution_count": 249,
   "metadata": {},
   "outputs": [],
   "source": [
    "mnist_dataset = keras.datasets.mnist\n",
    "(train_images, train_labels), (test_images, test_labels) = mnist_dataset.load_data()\n",
    "\n",
    "# Reduce dataset size\n",
    "train_images = train_images[:n_train]\n",
    "train_labels = tf.convert_to_tensor(train_labels[:n_train])\n",
    "test_images = test_images[:n_test]\n",
    "test_labels = tf.convert_to_tensor(test_labels[:n_test])\n",
    "\n",
    "# Normalize pixel values within 0 and 1\n",
    "train_images = train_images / 255\n",
    "test_images = test_images / 255\n",
    "\n",
    "# Add extra dimension for convolution channels\n",
    "train_images = tf.convert_to_tensor(train_images[..., tf.newaxis])\n",
    "test_images = tf.convert_to_tensor(test_images[..., tf.newaxis])"
   ]
  },
  {
   "cell_type": "code",
   "execution_count": null,
   "metadata": {},
   "outputs": [
    {
     "name": "stdout",
     "output_type": "stream",
     "text": [
      "tf.Tensor(1.5517615295687008, shape=(), dtype=float64)\n",
      "tf.Tensor(1.380647737038326, shape=(), dtype=float64)\n",
      "tf.Tensor(0.7374721988543604, shape=(), dtype=float64)\n"
     ]
    }
   ],
   "source": [
    "    \n",
    "    def quanv(image, params, filters = 1):\n",
    "        \n",
    "        out = tf.zeros((14, 14, filters))\n",
    "        # Loop over the coordinates of the top-left pixel of 2X2 squares\n",
    "        I = []\n",
    "        for i in range(filters):\n",
    "            J = []\n",
    "            for j in range(0, 28, 2):\n",
    "                K = []\n",
    "                for k in range(0, 28, 2):\n",
    "                    # Process a squared 2x2 region of the image with a quantum circuit\n",
    "                    \n",
    "                    q_results = scalar_prod(\n",
    "                        tf.convert_to_tensor([\n",
    "                            image[j, k, 0],\n",
    "                            image[j, k + 1, 0],\n",
    "                            image[j + 1, k, 0],\n",
    "                            image[j + 1, k + 1, 0]\n",
    "                        ]), params[i]\n",
    "                    )\n",
    "                    # Assign expectation values to different channels of the output pixel (j/2, k/2)\n",
    "                    K.append(q_results)\n",
    "                J.append(K)\n",
    "            I.append(J)\n",
    "        return tf.convert_to_tensor(I)\n",
    "    \n",
    "    def scalar_prod(phi, params):\n",
    "\n",
    "        prob = circuit(phi,params)[0]\n",
    "        return prob\n",
    "\n",
    "    @qml.qnode(dev, interface = \"tf\")\n",
    "    def circuit(phi, params):\n",
    "\n",
    "        # Encoding of 4 classical input values\n",
    "        for j in range(4):\n",
    "            qml.RY(np.pi * phi[j], wires=j)\n",
    "\n",
    "        for layer in range(params.shape[0]):\n",
    "            for i in range(params.shape[1]):\n",
    "                qml.RY(np.pi * params[layer,i], wires=i)\n",
    "\n",
    "        # Measurement producing 4 classical output values\n",
    "        return qml.probs(wires = range(4))\n",
    "    \n",
    "                    #filtros #layer #wires\n",
    "        \n",
    "\n",
    "    filters = 1\n",
    "    layers = 1\n",
    "    wires = 4\n",
    "    out_h1 = 10\n",
    "    params = tf.Variable(tf.cast(tf.random.normal([filters,layers, wires]), dtype = tf.float64))\n",
    "    W = tf.Variable(tf.cast(tf.random.normal((14 * 14 * filters, out_h1)), dtype = tf.float64))\n",
    "    b = tf.Variable(tf.cast(tf.random.normal((out_h1,)), dtype = tf.float64))\n",
    "    \n",
    "    def x_hidden(x,W,b):\n",
    "        x = tf.cast(x, dtype = tf.float64)\n",
    "        \n",
    "        \n",
    "        return tf.nn.softmax(x @ W + b)\n",
    "    \n",
    "    def to_vector(n):\n",
    "        L = [0] * 10\n",
    "        L[n] = 1\n",
    "        return tf.cast(tf.convert_to_tensor(L), dtype = tf.float64)\n",
    "\n",
    "    losses = []\n",
    "    for i in range(n_epochs):\n",
    "        for j in range(n_train):\n",
    "            with tf.GradientTape() as tape:\n",
    "                image = tf.reshape(quanv(train_images[j], params, filters),[1,-1])\n",
    "                #print((x_hidden(image,W,b)- to_vector(train_labels[j])))\n",
    "                loss = sum(((x_hidden(image,W,b)- to_vector(train_labels[j])) ** 2)[0])\n",
    "                # comprobar como esta definido el error, creo que algo falla\n",
    "                losses.append(loss)\n",
    "                print(loss)\n",
    "            gradients = tape.gradient(loss, [params,W,b])\n",
    "            \n",
    "            \n",
    "            lr_c = 0.05\n",
    "            lr_q = 0.3\n",
    "            params = tf.Variable(params - lr_q * gradients[0])\n",
    "            W = tf.Variable(W - lr_c * gradients[1])\n",
    "            b = tf.Variable(b - lr_c * gradients[2])\n",
    "            #plt.imshow(quanv(train_images[j], params, filters)[0])\n",
    "            #plt.show()\n",
    "\n",
    "# por lo menos parece que se entrena, habría que meterlo en la red y cambiar esta función de error"
   ]
  },
  {
   "cell_type": "code",
   "execution_count": 255,
   "metadata": {},
   "outputs": [
    {
     "data": {
      "text/plain": [
       "[<matplotlib.lines.Line2D at 0x7f5540043c70>]"
      ]
     },
     "execution_count": 255,
     "metadata": {},
     "output_type": "execute_result"
    },
    {
     "data": {
      "image/png": "[encoded data removed]",
      "text/plain": [
       "<Figure size 432x288 with 1 Axes>"
      ]
     },
     "metadata": {
      "needs_background": "light"
     },
     "output_type": "display_data"
    }
   ],
   "source": [
    "plt.plot(losses)"
   ]
  }
 ],
 "metadata": {
  "kernelspec": {
   "display_name": "Python 3",
   "language": "python",
   "name": "python3"
  },
  "language_info": {
   "codemirror_mode": {
    "name": "ipython",
    "version": 3
   },
   "file_extension": ".py",
   "mimetype": "text/x-python",
   "name": "python",
   "nbconvert_exporter": "python",
   "pygments_lexer": "ipython3",
   "version": "3.8.3"
  }
 },
 "nbformat": 4,
 "nbformat_minor": 4
}
